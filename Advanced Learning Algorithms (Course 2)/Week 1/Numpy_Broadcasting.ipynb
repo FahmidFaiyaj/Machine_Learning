{
 "cells": [
  {
   "cell_type": "markdown",
   "id": "0a361121-fd92-49e0-aef2-6dae29a4601d",
   "metadata": {},
   "source": [
    "#import modules"
   ]
  },
  {
   "cell_type": "code",
   "execution_count": 1,
   "id": "6a76f59f-4464-4e0c-8782-577234fa71d0",
   "metadata": {},
   "outputs": [],
   "source": [
    "import numpy as np"
   ]
  },
  {
   "cell_type": "code",
   "execution_count": 2,
   "id": "15a5d45a-92d0-4157-895b-de9861e3ba13",
   "metadata": {},
   "outputs": [
    {
     "name": "stdout",
     "output_type": "stream",
     "text": [
      "(a + b).shape: (3, 1), \n",
      "a + b = \n",
      "[[6]\n",
      " [7]\n",
      " [8]]\n"
     ]
    }
   ],
   "source": [
    "a = np.array([1,2,3]).reshape(-1,1)  #(3,1)\r\n",
    "b = 5\r\n",
    "print(f\"(a + b).shape: {(a + b).shape}, \\na + b = \\n{a + b}\")"
   ]
  },
  {
   "cell_type": "code",
   "execution_count": 3,
   "id": "0f4dbe3f-a989-4fb0-85bb-1b6d55cf97ed",
   "metadata": {},
   "outputs": [
    {
     "name": "stdout",
     "output_type": "stream",
     "text": [
      "(a * b).shape: (3, 1), \n",
      "a * b = \n",
      "[[ 5]\n",
      " [10]\n",
      " [15]]\n"
     ]
    }
   ],
   "source": [
    "a = np.array([1,2,3]).reshape(-1,1)  #(3,1)\n",
    "b = 5\n",
    "print(f\"(a * b).shape: {(a * b).shape}, \\na * b = \\n{a * b}\")"
   ]
  },
  {
   "cell_type": "code",
   "execution_count": 4,
   "id": "859e8a08-3b05-4ef6-90d2-1cb92e8ab9db",
   "metadata": {},
   "outputs": [
    {
     "name": "stdout",
     "output_type": "stream",
     "text": [
      "[[1]\n",
      " [2]\n",
      " [3]\n",
      " [4]]\n",
      "[[1 2 3]]\n",
      "(a + b).shape: (4, 3), \n",
      "a + b = \n",
      "[[2 3 4]\n",
      " [3 4 5]\n",
      " [4 5 6]\n",
      " [5 6 7]]\n"
     ]
    }
   ],
   "source": [
    "a = np.array([1,2,3,4]).reshape(-1,1)\n",
    "b = np.array([1,2,3]).reshape(1,-1)\n",
    "print(a)\n",
    "print(b)\n",
    "print(f\"(a + b).shape: {(a + b).shape}, \\na + b = \\n{a + b}\")"
   ]
  },
  {
   "cell_type": "code",
   "execution_count": null,
   "id": "c61cf4a7-bfba-43f8-8cbb-57525de8ac87",
   "metadata": {},
   "outputs": [],
   "source": []
  }
 ],
 "metadata": {
  "kernelspec": {
   "display_name": "Python 3 (ipykernel)",
   "language": "python",
   "name": "python3"
  },
  "language_info": {
   "codemirror_mode": {
    "name": "ipython",
    "version": 3
   },
   "file_extension": ".py",
   "mimetype": "text/x-python",
   "name": "python",
   "nbconvert_exporter": "python",
   "pygments_lexer": "ipython3",
   "version": "3.10.13"
  }
 },
 "nbformat": 4,
 "nbformat_minor": 5
}
