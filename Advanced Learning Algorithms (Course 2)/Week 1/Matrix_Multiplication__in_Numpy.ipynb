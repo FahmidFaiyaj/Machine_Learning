{
 "cells": [
  {
   "cell_type": "markdown",
   "id": "0a510aad-4a97-49ee-bafa-eedb50067597",
   "metadata": {},
   "source": [
    "#import modules"
   ]
  },
  {
   "cell_type": "code",
   "execution_count": 11,
   "id": "04aa3134-e6d6-44fe-b543-1b510d8ffa83",
   "metadata": {},
   "outputs": [],
   "source": [
    "import numpy as np\n",
    "from lab_utils_common import sigmoid"
   ]
  },
  {
   "cell_type": "markdown",
   "id": "9fc640fe-122e-4259-b1db-6d8b0a8ac866",
   "metadata": {},
   "source": [
    "#define matrices"
   ]
  },
  {
   "cell_type": "code",
   "execution_count": 12,
   "id": "5ec9e393-5bc0-4c4a-abb9-cc3380c8d5c9",
   "metadata": {},
   "outputs": [],
   "source": [
    "A = np.array([[1, -1, 0.1],\n",
    "              [2, -2, 0.2]])\n",
    "W = np.array([[3, 5, 7, 9],\n",
    "              [4, 6, 8, 0]])\n",
    "AT = A.T #calculate A transpose"
   ]
  },
  {
   "cell_type": "markdown",
   "id": "55ee3745-4a63-4410-80a8-57b9cddfe21a",
   "metadata": {},
   "source": [
    "#carry out matrix multiplication"
   ]
  },
  {
   "cell_type": "code",
   "execution_count": 13,
   "id": "c6906a4a-4d6b-4443-b3cd-5ba2ecc17cdf",
   "metadata": {},
   "outputs": [],
   "source": [
    "Z1 = np.matmul(AT, W) #method 1\n",
    "Z2 = AT @ W"
   ]
  },
  {
   "cell_type": "code",
   "execution_count": 14,
   "id": "6f722a76-57ac-47cc-9ac5-3c6a276df529",
   "metadata": {},
   "outputs": [
    {
     "data": {
      "text/plain": [
       "array([[ True,  True,  True,  True],\n",
       "       [ True,  True,  True,  True],\n",
       "       [ True,  True,  True,  True]])"
      ]
     },
     "execution_count": 14,
     "metadata": {},
     "output_type": "execute_result"
    }
   ],
   "source": [
    "Z1 == Z2"
   ]
  },
  {
   "cell_type": "markdown",
   "id": "e84e3355-a4db-42e8-999d-2719f26b17f4",
   "metadata": {},
   "source": [
    "#vectorized implementation of a neural network layer in Numpy"
   ]
  },
  {
   "cell_type": "code",
   "execution_count": 15,
   "id": "8fdb4d00-c099-41b5-9da7-196d91459233",
   "metadata": {},
   "outputs": [],
   "source": [
    "def dense(AT, W, b):\n",
    "    z = np.matmul(AT, W) + b\n",
    "    a_out = sigmoid(z)\n",
    "    return a_out"
   ]
  },
  {
   "cell_type": "code",
   "execution_count": 16,
   "id": "051bbf55-aaa5-44ac-9385-cd7461982287",
   "metadata": {},
   "outputs": [],
   "source": [
    "AT = np.array([[200, 17]])\n",
    "W = np.array([[1, -3, 5],\n",
    "              [-2, 4, -6]])\n",
    "b = np.array([[-1, 1, 2]])"
   ]
  },
  {
   "cell_type": "code",
   "execution_count": 17,
   "id": "dddde3dc-186a-480e-b79c-9944a971ee42",
   "metadata": {},
   "outputs": [
    {
     "data": {
      "text/plain": [
       "array([[1.00e+000, 7.12e-218, 1.00e+000]])"
      ]
     },
     "execution_count": 17,
     "metadata": {},
     "output_type": "execute_result"
    }
   ],
   "source": [
    "dense(AT, W, b)"
   ]
  },
  {
   "cell_type": "code",
   "execution_count": null,
   "id": "1ab61e34-ec1c-4c91-adbc-0ded00a7a48a",
   "metadata": {},
   "outputs": [],
   "source": []
  }
 ],
 "metadata": {
  "kernelspec": {
   "display_name": "Python 3 (ipykernel)",
   "language": "python",
   "name": "python3"
  },
  "language_info": {
   "codemirror_mode": {
    "name": "ipython",
    "version": 3
   },
   "file_extension": ".py",
   "mimetype": "text/x-python",
   "name": "python",
   "nbconvert_exporter": "python",
   "pygments_lexer": "ipython3",
   "version": "3.10.13"
  }
 },
 "nbformat": 4,
 "nbformat_minor": 5
}
