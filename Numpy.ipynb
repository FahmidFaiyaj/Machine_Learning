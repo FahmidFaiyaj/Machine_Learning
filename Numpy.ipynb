{
 "cells": [
  {
   "cell_type": "markdown",
   "id": "9ed02b14",
   "metadata": {},
   "source": [
    "#Importing Libraries"
   ]
  },
  {
   "cell_type": "code",
   "execution_count": 4,
   "id": "50a734a8",
   "metadata": {},
   "outputs": [],
   "source": [
    "import numpy as np"
   ]
  },
  {
   "cell_type": "markdown",
   "id": "b443ad16",
   "metadata": {},
   "source": [
    "#Array Attributes"
   ]
  },
  {
   "cell_type": "code",
   "execution_count": 5,
   "id": "cd87bcfb",
   "metadata": {},
   "outputs": [],
   "source": [
    "a = np.array([1, 2, 3]) #1D array/ Vector"
   ]
  },
  {
   "cell_type": "code",
   "execution_count": 6,
   "id": "ccbb55e4",
   "metadata": {},
   "outputs": [
    {
     "data": {
      "text/plain": [
       "array([1, 2, 3])"
      ]
     },
     "execution_count": 6,
     "metadata": {},
     "output_type": "execute_result"
    }
   ],
   "source": [
    "a"
   ]
  },
  {
   "cell_type": "code",
   "execution_count": 7,
   "id": "96ec1d68",
   "metadata": {},
   "outputs": [
    {
     "data": {
      "text/plain": [
       "numpy.ndarray"
      ]
     },
     "execution_count": 7,
     "metadata": {},
     "output_type": "execute_result"
    }
   ],
   "source": [
    "type(a)"
   ]
  },
  {
   "cell_type": "code",
   "execution_count": 8,
   "id": "d547a457",
   "metadata": {},
   "outputs": [
    {
     "data": {
      "text/plain": [
       "(3,)"
      ]
     },
     "execution_count": 8,
     "metadata": {},
     "output_type": "execute_result"
    }
   ],
   "source": [
    "a.shape"
   ]
  },
  {
   "cell_type": "code",
   "execution_count": 9,
   "id": "ebc81bfb",
   "metadata": {},
   "outputs": [
    {
     "data": {
      "text/plain": [
       "1"
      ]
     },
     "execution_count": 9,
     "metadata": {},
     "output_type": "execute_result"
    }
   ],
   "source": [
    "a.ndim"
   ]
  },
  {
   "cell_type": "code",
   "execution_count": 10,
   "id": "386774bc",
   "metadata": {},
   "outputs": [],
   "source": [
    "b = np.array([[1, 2, 3],\n",
    "              [4, 5, 6]])"
   ]
  },
  {
   "cell_type": "code",
   "execution_count": 11,
   "id": "31da5031",
   "metadata": {},
   "outputs": [
    {
     "data": {
      "text/plain": [
       "array([[1, 2, 3],\n",
       "       [4, 5, 6]])"
      ]
     },
     "execution_count": 11,
     "metadata": {},
     "output_type": "execute_result"
    }
   ],
   "source": [
    "b"
   ]
  },
  {
   "cell_type": "code",
   "execution_count": 12,
   "id": "da3fc156",
   "metadata": {},
   "outputs": [
    {
     "data": {
      "text/plain": [
       "numpy.ndarray"
      ]
     },
     "execution_count": 12,
     "metadata": {},
     "output_type": "execute_result"
    }
   ],
   "source": [
    "type(b)"
   ]
  },
  {
   "cell_type": "code",
   "execution_count": 13,
   "id": "11fe8198",
   "metadata": {},
   "outputs": [
    {
     "data": {
      "text/plain": [
       "(2, 3)"
      ]
     },
     "execution_count": 13,
     "metadata": {},
     "output_type": "execute_result"
    }
   ],
   "source": [
    "b.shape"
   ]
  },
  {
   "cell_type": "code",
   "execution_count": 14,
   "id": "48adef31",
   "metadata": {},
   "outputs": [
    {
     "data": {
      "text/plain": [
       "2"
      ]
     },
     "execution_count": 14,
     "metadata": {},
     "output_type": "execute_result"
    }
   ],
   "source": [
    "b.ndim"
   ]
  },
  {
   "cell_type": "code",
   "execution_count": 15,
   "id": "1ee7610f",
   "metadata": {},
   "outputs": [],
   "source": [
    "c = np.array([[[1, 2, 3],\n",
    "               [4, 5, 6],\n",
    "               [7, 8, 9]],\n",
    "              \n",
    "              [[10, 11, 12],\n",
    "               [13, 14, 15],\n",
    "               [16, 17, 18]]])"
   ]
  },
  {
   "cell_type": "code",
   "execution_count": 16,
   "id": "7df877df",
   "metadata": {},
   "outputs": [
    {
     "data": {
      "text/plain": [
       "array([[[ 1,  2,  3],\n",
       "        [ 4,  5,  6],\n",
       "        [ 7,  8,  9]],\n",
       "\n",
       "       [[10, 11, 12],\n",
       "        [13, 14, 15],\n",
       "        [16, 17, 18]]])"
      ]
     },
     "execution_count": 16,
     "metadata": {},
     "output_type": "execute_result"
    }
   ],
   "source": [
    "c"
   ]
  },
  {
   "cell_type": "code",
   "execution_count": 17,
   "id": "b18087af",
   "metadata": {},
   "outputs": [
    {
     "data": {
      "text/plain": [
       "((2, 3, 3), 3)"
      ]
     },
     "execution_count": 17,
     "metadata": {},
     "output_type": "execute_result"
    }
   ],
   "source": [
    "c.shape, c.ndim"
   ]
  },
  {
   "cell_type": "code",
   "execution_count": 18,
   "id": "1986c99a",
   "metadata": {},
   "outputs": [
    {
     "data": {
      "text/plain": [
       "(dtype('int32'), dtype('int32'), dtype('int32'))"
      ]
     },
     "execution_count": 18,
     "metadata": {},
     "output_type": "execute_result"
    }
   ],
   "source": [
    "a.dtype, b.dtype, c.dtype"
   ]
  },
  {
   "cell_type": "code",
   "execution_count": 19,
   "id": "1b9b1f7a",
   "metadata": {},
   "outputs": [
    {
     "data": {
      "text/plain": [
       "(3, 6, 18)"
      ]
     },
     "execution_count": 19,
     "metadata": {},
     "output_type": "execute_result"
    }
   ],
   "source": [
    "a.size, b.size, c.size #Count elements of each array"
   ]
  },
  {
   "cell_type": "code",
   "execution_count": 20,
   "id": "a0bdd06d",
   "metadata": {},
   "outputs": [
    {
     "data": {
      "text/plain": [
       "(12, 24, 72)"
      ]
     },
     "execution_count": 20,
     "metadata": {},
     "output_type": "execute_result"
    }
   ],
   "source": [
    "a.nbytes, b.nbytes, c.nbytes"
   ]
  },
  {
   "cell_type": "code",
   "execution_count": 21,
   "id": "8a24cc2b",
   "metadata": {},
   "outputs": [
    {
     "data": {
      "text/plain": [
       "(<memory at 0x000002B8A450D240>,\n",
       " <memory at 0x000002B8A451F510>,\n",
       " <memory at 0x000002B8A41E9A80>)"
      ]
     },
     "execution_count": 21,
     "metadata": {},
     "output_type": "execute_result"
    }
   ],
   "source": [
    "a.data, b.data, c.data #Shows array memory location"
   ]
  },
  {
   "cell_type": "markdown",
   "id": "889f4f35",
   "metadata": {},
   "source": [
    "#Array Creation"
   ]
  },
  {
   "cell_type": "code",
   "execution_count": 22,
   "id": "c12d44a9",
   "metadata": {},
   "outputs": [],
   "source": [
    "array1 = np.array([1, 2, 3], dtype = 'int')"
   ]
  },
  {
   "cell_type": "code",
   "execution_count": 23,
   "id": "b8f08d77",
   "metadata": {},
   "outputs": [
    {
     "data": {
      "text/plain": [
       "array([1, 2, 3])"
      ]
     },
     "execution_count": 23,
     "metadata": {},
     "output_type": "execute_result"
    }
   ],
   "source": [
    "array1"
   ]
  },
  {
   "cell_type": "code",
   "execution_count": 24,
   "id": "0c4605a0",
   "metadata": {},
   "outputs": [],
   "source": [
    "zeros = np.zeros((3, 3), dtype = 'int')"
   ]
  },
  {
   "cell_type": "code",
   "execution_count": 25,
   "id": "4be5c04f",
   "metadata": {},
   "outputs": [
    {
     "data": {
      "text/plain": [
       "array([[0, 0, 0],\n",
       "       [0, 0, 0],\n",
       "       [0, 0, 0]])"
      ]
     },
     "execution_count": 25,
     "metadata": {},
     "output_type": "execute_result"
    }
   ],
   "source": [
    "zeros"
   ]
  },
  {
   "cell_type": "code",
   "execution_count": 26,
   "id": "b1d0cc4e",
   "metadata": {},
   "outputs": [],
   "source": [
    "ones = np.ones((3, 3), dtype = 'int')"
   ]
  },
  {
   "cell_type": "code",
   "execution_count": 27,
   "id": "017d549a",
   "metadata": {},
   "outputs": [
    {
     "data": {
      "text/plain": [
       "array([[1, 1, 1],\n",
       "       [1, 1, 1],\n",
       "       [1, 1, 1]])"
      ]
     },
     "execution_count": 27,
     "metadata": {},
     "output_type": "execute_result"
    }
   ],
   "source": [
    "ones"
   ]
  },
  {
   "cell_type": "code",
   "execution_count": 28,
   "id": "9a8e697f",
   "metadata": {},
   "outputs": [],
   "source": [
    "fives = np.full((2, 3), 5, dtype = 'int')"
   ]
  },
  {
   "cell_type": "code",
   "execution_count": 29,
   "id": "70d4c034",
   "metadata": {},
   "outputs": [
    {
     "data": {
      "text/plain": [
       "array([[5, 5, 5],\n",
       "       [5, 5, 5]])"
      ]
     },
     "execution_count": 29,
     "metadata": {},
     "output_type": "execute_result"
    }
   ],
   "source": [
    "fives"
   ]
  },
  {
   "cell_type": "code",
   "execution_count": 30,
   "id": "ce7bbcc2",
   "metadata": {},
   "outputs": [],
   "source": [
    "identity = np.identity(3, dtype = 'int') #Creates an nxn identity matrix"
   ]
  },
  {
   "cell_type": "code",
   "execution_count": 31,
   "id": "e710e260",
   "metadata": {},
   "outputs": [
    {
     "data": {
      "text/plain": [
       "array([[1, 0, 0],\n",
       "       [0, 1, 0],\n",
       "       [0, 0, 1]])"
      ]
     },
     "execution_count": 31,
     "metadata": {},
     "output_type": "execute_result"
    }
   ],
   "source": [
    "identity"
   ]
  },
  {
   "cell_type": "code",
   "execution_count": 32,
   "id": "4dd23b56",
   "metadata": {},
   "outputs": [],
   "source": [
    "eye = np.eye(3, k = 1, dtype = 'int')"
   ]
  },
  {
   "cell_type": "code",
   "execution_count": 33,
   "id": "bbf063aa",
   "metadata": {},
   "outputs": [
    {
     "data": {
      "text/plain": [
       "array([[0, 1, 0],\n",
       "       [0, 0, 1],\n",
       "       [0, 0, 0]])"
      ]
     },
     "execution_count": 33,
     "metadata": {},
     "output_type": "execute_result"
    }
   ],
   "source": [
    "eye"
   ]
  },
  {
   "cell_type": "code",
   "execution_count": 34,
   "id": "b630fd94",
   "metadata": {},
   "outputs": [],
   "source": [
    "arange = np.arange(1, 10, 2, dtype = 'int')"
   ]
  },
  {
   "cell_type": "code",
   "execution_count": 35,
   "id": "f0cef8bb",
   "metadata": {},
   "outputs": [
    {
     "data": {
      "text/plain": [
       "array([1, 3, 5, 7, 9])"
      ]
     },
     "execution_count": 35,
     "metadata": {},
     "output_type": "execute_result"
    }
   ],
   "source": [
    "arange"
   ]
  },
  {
   "cell_type": "code",
   "execution_count": 36,
   "id": "8b7ab55e",
   "metadata": {},
   "outputs": [],
   "source": [
    "linspace = np.linspace(1,10,5)"
   ]
  },
  {
   "cell_type": "code",
   "execution_count": 37,
   "id": "a46a01f9",
   "metadata": {},
   "outputs": [
    {
     "data": {
      "text/plain": [
       "array([ 1.  ,  3.25,  5.5 ,  7.75, 10.  ])"
      ]
     },
     "execution_count": 37,
     "metadata": {},
     "output_type": "execute_result"
    }
   ],
   "source": [
    "linspace"
   ]
  },
  {
   "cell_type": "code",
   "execution_count": 38,
   "id": "0b91b862",
   "metadata": {},
   "outputs": [],
   "source": [
    "empty = np.empty((1,5), dtype = 'int')\n",
    "for i in range(5):\n",
    "    empty[:,i] = i + 1"
   ]
  },
  {
   "cell_type": "code",
   "execution_count": 39,
   "id": "24fc0fb1",
   "metadata": {
    "scrolled": true
   },
   "outputs": [
    {
     "data": {
      "text/plain": [
       "array([[1, 2, 3, 4, 5]])"
      ]
     },
     "execution_count": 39,
     "metadata": {},
     "output_type": "execute_result"
    }
   ],
   "source": [
    "empty"
   ]
  },
  {
   "cell_type": "markdown",
   "id": "a02e7aa0",
   "metadata": {},
   "source": [
    "#Array Indexing and Slicing"
   ]
  },
  {
   "cell_type": "markdown",
   "id": "799148e0",
   "metadata": {},
   "source": [
    "Indexing"
   ]
  },
  {
   "cell_type": "code",
   "execution_count": 40,
   "id": "8ede9472",
   "metadata": {},
   "outputs": [],
   "source": [
    "arr1 = np.array([1, 2, 3, 4, 5])"
   ]
  },
  {
   "cell_type": "code",
   "execution_count": 41,
   "id": "e96f83ab",
   "metadata": {},
   "outputs": [
    {
     "data": {
      "text/plain": [
       "array([1, 2, 3, 4, 5])"
      ]
     },
     "execution_count": 41,
     "metadata": {},
     "output_type": "execute_result"
    }
   ],
   "source": [
    "arr1"
   ]
  },
  {
   "cell_type": "code",
   "execution_count": 42,
   "id": "cf161adf",
   "metadata": {},
   "outputs": [
    {
     "name": "stdout",
     "output_type": "stream",
     "text": [
      "[1 2 3 4 5]\n"
     ]
    }
   ],
   "source": [
    "print(arr1)"
   ]
  },
  {
   "cell_type": "code",
   "execution_count": 43,
   "id": "f8652c1c",
   "metadata": {},
   "outputs": [
    {
     "data": {
      "text/plain": [
       "(1, 1)"
      ]
     },
     "execution_count": 43,
     "metadata": {},
     "output_type": "execute_result"
    }
   ],
   "source": [
    "arr1[0], arr1[-5] #2 methods of indexing"
   ]
  },
  {
   "cell_type": "code",
   "execution_count": 44,
   "id": "5798e65f",
   "metadata": {},
   "outputs": [],
   "source": [
    "arr2 = np.random.randint(1, 10, size = (3, 3))"
   ]
  },
  {
   "cell_type": "code",
   "execution_count": 45,
   "id": "f897c5a5",
   "metadata": {},
   "outputs": [
    {
     "name": "stdout",
     "output_type": "stream",
     "text": [
      "[[3 4 4]\n",
      " [2 9 4]\n",
      " [7 8 6]]\n"
     ]
    }
   ],
   "source": [
    "print(arr2)"
   ]
  },
  {
   "cell_type": "code",
   "execution_count": 46,
   "id": "826cfb4d",
   "metadata": {},
   "outputs": [
    {
     "data": {
      "text/plain": [
       "(4, 4)"
      ]
     },
     "execution_count": 46,
     "metadata": {},
     "output_type": "execute_result"
    }
   ],
   "source": [
    "arr2[1][2], arr2[1, 2] #2 methods of indexing"
   ]
  },
  {
   "cell_type": "code",
   "execution_count": 47,
   "id": "d578d0ff",
   "metadata": {},
   "outputs": [],
   "source": [
    "arr3 = np.random.randint(1, 10, size = (2, 3, 3))"
   ]
  },
  {
   "cell_type": "code",
   "execution_count": 48,
   "id": "05042dce",
   "metadata": {},
   "outputs": [
    {
     "name": "stdout",
     "output_type": "stream",
     "text": [
      "[[[3 3 7]\n",
      "  [4 9 7]\n",
      "  [9 8 6]]\n",
      "\n",
      " [[6 1 5]\n",
      "  [9 4 1]\n",
      "  [6 7 2]]]\n"
     ]
    }
   ],
   "source": [
    "print(arr3)"
   ]
  },
  {
   "cell_type": "code",
   "execution_count": 49,
   "id": "b7510237",
   "metadata": {},
   "outputs": [
    {
     "data": {
      "text/plain": [
       "(7, 7)"
      ]
     },
     "execution_count": 49,
     "metadata": {},
     "output_type": "execute_result"
    }
   ],
   "source": [
    "arr3[0][1][2], arr3[0, 1, 2]"
   ]
  },
  {
   "cell_type": "markdown",
   "id": "dc019f64",
   "metadata": {},
   "source": [
    "Slicing"
   ]
  },
  {
   "cell_type": "code",
   "execution_count": 50,
   "id": "4e4c3138",
   "metadata": {},
   "outputs": [
    {
     "name": "stdout",
     "output_type": "stream",
     "text": [
      "[1 2 3 4 5]\n"
     ]
    }
   ],
   "source": [
    "print(arr1)"
   ]
  },
  {
   "cell_type": "code",
   "execution_count": 51,
   "id": "9d4f381f",
   "metadata": {},
   "outputs": [
    {
     "name": "stdout",
     "output_type": "stream",
     "text": [
      "[1 2 3]\n"
     ]
    }
   ],
   "source": [
    "print(arr1[0:3]) #Slices array upto right before upper index"
   ]
  },
  {
   "cell_type": "code",
   "execution_count": 52,
   "id": "df231ce0",
   "metadata": {},
   "outputs": [
    {
     "name": "stdout",
     "output_type": "stream",
     "text": [
      "[3 4 5]\n"
     ]
    }
   ],
   "source": [
    "print(arr1[2:])"
   ]
  },
  {
   "cell_type": "code",
   "execution_count": 53,
   "id": "ccba25b9",
   "metadata": {},
   "outputs": [
    {
     "name": "stdout",
     "output_type": "stream",
     "text": [
      "[1 2]\n"
     ]
    }
   ],
   "source": [
    "print(arr1[:2])"
   ]
  },
  {
   "cell_type": "code",
   "execution_count": 54,
   "id": "0444b93d",
   "metadata": {},
   "outputs": [
    {
     "name": "stdout",
     "output_type": "stream",
     "text": [
      "[[3 4 4]\n",
      " [2 9 4]\n",
      " [7 8 6]]\n"
     ]
    }
   ],
   "source": [
    "print(arr2)"
   ]
  },
  {
   "cell_type": "code",
   "execution_count": 55,
   "id": "5dc74790",
   "metadata": {},
   "outputs": [
    {
     "name": "stdout",
     "output_type": "stream",
     "text": [
      "[[3 4]\n",
      " [2 9]]\n"
     ]
    }
   ],
   "source": [
    "print(arr2[0:2, 0:2]) #Keep the first 2 rows and columns"
   ]
  },
  {
   "cell_type": "code",
   "execution_count": 56,
   "id": "73217b13",
   "metadata": {},
   "outputs": [
    {
     "name": "stdout",
     "output_type": "stream",
     "text": [
      "[[9 4]\n",
      " [8 6]]\n"
     ]
    }
   ],
   "source": [
    "print(arr2[1:, 1:])   #Keep the last 2 rows and columns"
   ]
  },
  {
   "cell_type": "markdown",
   "id": "409c6640",
   "metadata": {},
   "source": [
    "#Manipulating Array Shapes\n",
    "i)reshape()\n",
    "ii)resize()\n",
    "iii)flatten()\n",
    "iv)revel()\n",
    "v)defining array shape"
   ]
  },
  {
   "cell_type": "markdown",
   "id": "2d6130b3",
   "metadata": {},
   "source": [
    "reshape()"
   ]
  },
  {
   "cell_type": "code",
   "execution_count": 57,
   "id": "102a5c6c",
   "metadata": {},
   "outputs": [],
   "source": [
    "a = np.array([[1, 2, 3],\n",
    "              [4, 5, 6]])"
   ]
  },
  {
   "cell_type": "code",
   "execution_count": 58,
   "id": "1dfe525e",
   "metadata": {},
   "outputs": [
    {
     "name": "stdout",
     "output_type": "stream",
     "text": [
      "[[1 2 3]\n",
      " [4 5 6]]\n"
     ]
    }
   ],
   "source": [
    "print(a)"
   ]
  },
  {
   "cell_type": "code",
   "execution_count": 59,
   "id": "0c9b64f4",
   "metadata": {},
   "outputs": [
    {
     "data": {
      "text/plain": [
       "(2, 3)"
      ]
     },
     "execution_count": 59,
     "metadata": {},
     "output_type": "execute_result"
    }
   ],
   "source": [
    "a.shape"
   ]
  },
  {
   "cell_type": "code",
   "execution_count": 60,
   "id": "3b12402b",
   "metadata": {},
   "outputs": [],
   "source": [
    "a_reshaped = np.reshape(a, (3, 2))"
   ]
  },
  {
   "cell_type": "code",
   "execution_count": 61,
   "id": "d7fee1b0",
   "metadata": {},
   "outputs": [
    {
     "name": "stdout",
     "output_type": "stream",
     "text": [
      "[[1 2]\n",
      " [3 4]\n",
      " [5 6]]\n"
     ]
    }
   ],
   "source": [
    "print(a_reshaped)"
   ]
  },
  {
   "cell_type": "raw",
   "id": "735099d9",
   "metadata": {},
   "source": [
    "resize()"
   ]
  },
  {
   "cell_type": "code",
   "execution_count": 62,
   "id": "e2e653d5",
   "metadata": {},
   "outputs": [],
   "source": [
    "a_resized = np.resize(a, (3, 3))"
   ]
  },
  {
   "cell_type": "code",
   "execution_count": 63,
   "id": "0d4c19ce",
   "metadata": {},
   "outputs": [
    {
     "name": "stdout",
     "output_type": "stream",
     "text": [
      "[[1 2 3]\n",
      " [4 5 6]\n",
      " [1 2 3]]\n"
     ]
    }
   ],
   "source": [
    "print(a_resized)"
   ]
  },
  {
   "cell_type": "code",
   "execution_count": 64,
   "id": "9844a8dd",
   "metadata": {},
   "outputs": [],
   "source": [
    "a_resized2 = np.resize(a, (3, 2)) #Using resize() as reshape()"
   ]
  },
  {
   "cell_type": "code",
   "execution_count": 65,
   "id": "17e35bed",
   "metadata": {},
   "outputs": [
    {
     "name": "stdout",
     "output_type": "stream",
     "text": [
      "[[1 2]\n",
      " [3 4]\n",
      " [5 6]]\n"
     ]
    }
   ],
   "source": [
    "print(a_resized2)"
   ]
  },
  {
   "cell_type": "markdown",
   "id": "d6189209",
   "metadata": {},
   "source": [
    "ravel()"
   ]
  },
  {
   "cell_type": "code",
   "execution_count": 66,
   "id": "a0586fda",
   "metadata": {},
   "outputs": [],
   "source": [
    "a = np.random.randint(1, 10, (2, 3))"
   ]
  },
  {
   "cell_type": "code",
   "execution_count": 67,
   "id": "a43cfd73",
   "metadata": {},
   "outputs": [
    {
     "name": "stdout",
     "output_type": "stream",
     "text": [
      "[[3 7 1]\n",
      " [6 6 5]]\n"
     ]
    }
   ],
   "source": [
    "print(a)"
   ]
  },
  {
   "cell_type": "code",
   "execution_count": 68,
   "id": "e4cb6850",
   "metadata": {},
   "outputs": [],
   "source": [
    "a_raveled = np.ravel(a) #Converts an nD array into a vector(1D)"
   ]
  },
  {
   "cell_type": "code",
   "execution_count": 69,
   "id": "771ec104",
   "metadata": {},
   "outputs": [
    {
     "name": "stdout",
     "output_type": "stream",
     "text": [
      "[3 7 1 6 6 5]\n"
     ]
    }
   ],
   "source": [
    "print(a_raveled)"
   ]
  },
  {
   "cell_type": "code",
   "execution_count": 70,
   "id": "ae209a9e",
   "metadata": {},
   "outputs": [],
   "source": [
    "a_raveled[0] = 7 #Changing the raveled array also changes the original array"
   ]
  },
  {
   "cell_type": "code",
   "execution_count": 71,
   "id": "67374892",
   "metadata": {},
   "outputs": [
    {
     "name": "stdout",
     "output_type": "stream",
     "text": [
      "[[7 7 1]\n",
      " [6 6 5]]\n"
     ]
    }
   ],
   "source": [
    "print(a)"
   ]
  },
  {
   "cell_type": "markdown",
   "id": "73124e09",
   "metadata": {},
   "source": [
    "flatten()"
   ]
  },
  {
   "cell_type": "code",
   "execution_count": 72,
   "id": "8fae0138",
   "metadata": {},
   "outputs": [
    {
     "name": "stdout",
     "output_type": "stream",
     "text": [
      "[[7 7 1]\n",
      " [6 6 5]]\n"
     ]
    }
   ],
   "source": [
    "print(a)"
   ]
  },
  {
   "cell_type": "code",
   "execution_count": 73,
   "id": "350c816b",
   "metadata": {},
   "outputs": [],
   "source": [
    "a_flattened = a.flatten() #Returns a copy of the array. Allocates a new memory"
   ]
  },
  {
   "cell_type": "code",
   "execution_count": 74,
   "id": "950002a1",
   "metadata": {},
   "outputs": [
    {
     "name": "stdout",
     "output_type": "stream",
     "text": [
      "[7 7 1 6 6 5]\n"
     ]
    }
   ],
   "source": [
    "print(a_flattened)"
   ]
  },
  {
   "cell_type": "code",
   "execution_count": 75,
   "id": "8c339304",
   "metadata": {},
   "outputs": [],
   "source": [
    "a_flattened[0] = 100 #Changing the flattened array does not affect the original array"
   ]
  },
  {
   "cell_type": "code",
   "execution_count": 76,
   "id": "03bc098a",
   "metadata": {},
   "outputs": [
    {
     "name": "stdout",
     "output_type": "stream",
     "text": [
      "[100   7   1   6   6   5]\n"
     ]
    }
   ],
   "source": [
    "print(a_flattened)"
   ]
  },
  {
   "cell_type": "code",
   "execution_count": 77,
   "id": "850f8972",
   "metadata": {},
   "outputs": [
    {
     "name": "stdout",
     "output_type": "stream",
     "text": [
      "[[7 7 1]\n",
      " [6 6 5]]\n"
     ]
    }
   ],
   "source": [
    "print(a)"
   ]
  },
  {
   "cell_type": "markdown",
   "id": "0e5c2835",
   "metadata": {},
   "source": [
    "#Defining an array shape"
   ]
  },
  {
   "cell_type": "code",
   "execution_count": 78,
   "id": "1157344d",
   "metadata": {},
   "outputs": [
    {
     "name": "stdout",
     "output_type": "stream",
     "text": [
      "[[7 7 1]\n",
      " [6 6 5]]\n"
     ]
    }
   ],
   "source": [
    "print(a)"
   ]
  },
  {
   "cell_type": "code",
   "execution_count": 79,
   "id": "5e7df8c7",
   "metadata": {},
   "outputs": [
    {
     "data": {
      "text/plain": [
       "(2, 3)"
      ]
     },
     "execution_count": 79,
     "metadata": {},
     "output_type": "execute_result"
    }
   ],
   "source": [
    "a.shape"
   ]
  },
  {
   "cell_type": "code",
   "execution_count": 80,
   "id": "9388e4e4",
   "metadata": {},
   "outputs": [],
   "source": [
    "a.shape = (3, 2)"
   ]
  },
  {
   "cell_type": "code",
   "execution_count": 81,
   "id": "533e0184-6bd0-46b8-8fec-19347d3ed9e7",
   "metadata": {},
   "outputs": [
    {
     "data": {
      "text/plain": [
       "array([[7, 7],\n",
       "       [1, 6],\n",
       "       [6, 5]])"
      ]
     },
     "execution_count": 81,
     "metadata": {},
     "output_type": "execute_result"
    }
   ],
   "source": [
    "a"
   ]
  },
  {
   "cell_type": "markdown",
   "id": "5290443a",
   "metadata": {},
   "source": [
    "#Stacking"
   ]
  },
  {
   "cell_type": "code",
   "execution_count": 82,
   "id": "3fcb4664",
   "metadata": {},
   "outputs": [],
   "source": [
    "a = np.arange(1, 10).reshape(3, 3)"
   ]
  },
  {
   "cell_type": "code",
   "execution_count": 83,
   "id": "f6810985",
   "metadata": {},
   "outputs": [
    {
     "data": {
      "text/plain": [
       "array([[1, 2, 3],\n",
       "       [4, 5, 6],\n",
       "       [7, 8, 9]])"
      ]
     },
     "execution_count": 83,
     "metadata": {},
     "output_type": "execute_result"
    }
   ],
   "source": [
    "a"
   ]
  },
  {
   "cell_type": "code",
   "execution_count": 84,
   "id": "3ec4ac77",
   "metadata": {},
   "outputs": [],
   "source": [
    "b = 2*a"
   ]
  },
  {
   "cell_type": "code",
   "execution_count": 85,
   "id": "5b9cb66d",
   "metadata": {},
   "outputs": [
    {
     "data": {
      "text/plain": [
       "array([[ 2,  4,  6],\n",
       "       [ 8, 10, 12],\n",
       "       [14, 16, 18]])"
      ]
     },
     "execution_count": 85,
     "metadata": {},
     "output_type": "execute_result"
    }
   ],
   "source": [
    "b"
   ]
  },
  {
   "cell_type": "markdown",
   "id": "d51642e5",
   "metadata": {},
   "source": [
    "Horizontal Stacking"
   ]
  },
  {
   "cell_type": "code",
   "execution_count": 86,
   "id": "e5044890",
   "metadata": {},
   "outputs": [
    {
     "data": {
      "text/plain": [
       "array([[ 1,  2,  3,  2,  4,  6],\n",
       "       [ 4,  5,  6,  8, 10, 12],\n",
       "       [ 7,  8,  9, 14, 16, 18]])"
      ]
     },
     "execution_count": 86,
     "metadata": {},
     "output_type": "execute_result"
    }
   ],
   "source": [
    "np.hstack((a, b))"
   ]
  },
  {
   "cell_type": "code",
   "execution_count": 87,
   "id": "62e8e0a0",
   "metadata": {},
   "outputs": [
    {
     "data": {
      "text/plain": [
       "array([[ 1,  2,  3,  2,  4,  6],\n",
       "       [ 4,  5,  6,  8, 10, 12],\n",
       "       [ 7,  8,  9, 14, 16, 18]])"
      ]
     },
     "execution_count": 87,
     "metadata": {},
     "output_type": "execute_result"
    }
   ],
   "source": [
    "np.column_stack((a, b)) #Same as hstack"
   ]
  },
  {
   "cell_type": "code",
   "execution_count": 88,
   "id": "34fac468",
   "metadata": {},
   "outputs": [
    {
     "data": {
      "text/plain": [
       "array([[ 1,  2,  3,  2,  4,  6],\n",
       "       [ 4,  5,  6,  8, 10, 12],\n",
       "       [ 7,  8,  9, 14, 16, 18]])"
      ]
     },
     "execution_count": 88,
     "metadata": {},
     "output_type": "execute_result"
    }
   ],
   "source": [
    "np.concatenate((a, b), axis = 1)"
   ]
  },
  {
   "cell_type": "markdown",
   "id": "95d659e4",
   "metadata": {},
   "source": [
    "Vertical Stacking"
   ]
  },
  {
   "cell_type": "code",
   "execution_count": 89,
   "id": "67958a63",
   "metadata": {},
   "outputs": [
    {
     "data": {
      "text/plain": [
       "array([[ 1,  2,  3],\n",
       "       [ 4,  5,  6],\n",
       "       [ 7,  8,  9],\n",
       "       [ 2,  4,  6],\n",
       "       [ 8, 10, 12],\n",
       "       [14, 16, 18]])"
      ]
     },
     "execution_count": 89,
     "metadata": {},
     "output_type": "execute_result"
    }
   ],
   "source": [
    "np.vstack((a, b))"
   ]
  },
  {
   "cell_type": "code",
   "execution_count": 90,
   "id": "4966c55d",
   "metadata": {},
   "outputs": [
    {
     "data": {
      "text/plain": [
       "array([[ 1,  2,  3],\n",
       "       [ 4,  5,  6],\n",
       "       [ 7,  8,  9],\n",
       "       [ 2,  4,  6],\n",
       "       [ 8, 10, 12],\n",
       "       [14, 16, 18]])"
      ]
     },
     "execution_count": 90,
     "metadata": {},
     "output_type": "execute_result"
    }
   ],
   "source": [
    "np.row_stack((a, b)) #Same as vstack"
   ]
  },
  {
   "cell_type": "code",
   "execution_count": 91,
   "id": "1dab2247",
   "metadata": {},
   "outputs": [
    {
     "data": {
      "text/plain": [
       "array([[ 1,  2,  3],\n",
       "       [ 4,  5,  6],\n",
       "       [ 7,  8,  9],\n",
       "       [ 2,  4,  6],\n",
       "       [ 8, 10, 12],\n",
       "       [14, 16, 18]])"
      ]
     },
     "execution_count": 91,
     "metadata": {},
     "output_type": "execute_result"
    }
   ],
   "source": [
    "np.concatenate((a, b), axis = 0)"
   ]
  },
  {
   "cell_type": "markdown",
   "id": "a35c75ac",
   "metadata": {},
   "source": [
    "Depth Stacking"
   ]
  },
  {
   "cell_type": "code",
   "execution_count": 92,
   "id": "b2c40115",
   "metadata": {},
   "outputs": [
    {
     "data": {
      "text/plain": [
       "array([[[ 1,  2],\n",
       "        [ 2,  4],\n",
       "        [ 3,  6]],\n",
       "\n",
       "       [[ 4,  8],\n",
       "        [ 5, 10],\n",
       "        [ 6, 12]],\n",
       "\n",
       "       [[ 7, 14],\n",
       "        [ 8, 16],\n",
       "        [ 9, 18]]])"
      ]
     },
     "execution_count": 92,
     "metadata": {},
     "output_type": "execute_result"
    }
   ],
   "source": [
    "np.dstack((a, b))"
   ]
  }
 ],
 "metadata": {
  "kernelspec": {
   "display_name": "Python 3 (ipykernel)",
   "language": "python",
   "name": "python3"
  },
  "language_info": {
   "codemirror_mode": {
    "name": "ipython",
    "version": 3
   },
   "file_extension": ".py",
   "mimetype": "text/x-python",
   "name": "python",
   "nbconvert_exporter": "python",
   "pygments_lexer": "ipython3",
   "version": "3.11.9"
  }
 },
 "nbformat": 4,
 "nbformat_minor": 5
}
